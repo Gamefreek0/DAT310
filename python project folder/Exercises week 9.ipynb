{
 "cells": [
  {
   "cell_type": "markdown",
   "metadata": {},
   "source": [
    "## Exercise week 9"
   ]
  },
  {
   "cell_type": "markdown",
   "metadata": {},
   "source": [
    "# 1a"
   ]
  },
  {
   "cell_type": "code",
   "execution_count": 7,
   "metadata": {},
   "outputs": [
    {
     "name": "stdout",
     "output_type": "stream",
     "text": [
      "Enter a number: 7\n",
      "5040\n"
     ]
    }
   ],
   "source": [
    "factorial = 1\n",
    "for i in range(1, int(input(\"Enter a number: \")) + 1):\n",
    "    factorial *= i\n",
    "print(factorial)"
   ]
  },
  {
   "cell_type": "markdown",
   "metadata": {},
   "source": [
    "# 1b"
   ]
  },
  {
   "cell_type": "code",
   "execution_count": 8,
   "metadata": {},
   "outputs": [
    {
     "name": "stdout",
     "output_type": "stream",
     "text": [
      "Enter a number: 5\n",
      "1 1 2 3 "
     ]
    }
   ],
   "source": [
    "n = int(input(\"Enter a number: \"))\n",
    "a, b = 0, 1\n",
    "while b < n:\n",
    "    print(b, end=' ')\n",
    "    a, b = b, a+b\n"
   ]
  },
  {
   "cell_type": "markdown",
   "metadata": {},
   "source": [
    "# 2a"
   ]
  },
  {
   "cell_type": "code",
   "execution_count": 6,
   "metadata": {},
   "outputs": [
    {
     "name": "stdout",
     "output_type": "stream",
     "text": [
      "[1, 3, 5]\n"
     ]
    }
   ],
   "source": [
    "list =range(1,6)\n",
    "oddlist=[i for i in list if i%2 != 0]\n",
    "print(oddlist)"
   ]
  },
  {
   "cell_type": "markdown",
   "metadata": {},
   "source": [
    "# 2b"
   ]
  },
  {
   "cell_type": "code",
   "execution_count": 10,
   "metadata": {},
   "outputs": [
    {
     "name": "stdout",
     "output_type": "stream",
     "text": [
      "Average score is: 78.25\n",
      "Max score is: 95\n",
      "Min score is: 59\n"
     ]
    }
   ],
   "source": [
    "\"\"\"Exam scores\n",
    "The following dictionary stores four students' exam scores for a given course:\n",
    "`d = {'Adam':95, 'Lisa':85, 'Bart':59, 'Paul': 74}`.\n",
    "Calculate the average, max, and min scores.\n",
    "\"\"\"\n",
    "\n",
    "d = {\"Adam\": 95, \"Lisa\": 85, \"Bart\": 59, \"Paul\": 74}\n",
    "\n",
    "# Solution 1: searching for avg/min/max manually\n",
    "\"\"\"\n",
    "sumv = 0.0\n",
    "max_score = list(d.values())[0]\n",
    "min_score = list(d.values())[0]\n",
    "for _, i in d.items():\n",
    "    sumv += i\n",
    "    if i > max_score:\n",
    "        max_score = i\n",
    "    if i < min_score:\n",
    "        min_score = i\n",
    "\n",
    "print(\"Average score is:\", sumv / len(d))\n",
    "print(\"Max score is:\", max_score)\n",
    "print(\"Min score is:\", min_score)\n",
    "\"\"\"\n",
    "\n",
    "# Solution 2\n",
    "\n",
    "v = d.values()\n",
    "print(\"Average score is:\", sum(v) / len(d))\n",
    "print(\"Max score is:\", max(v))\n",
    "print(\"Min score is:\", min(v))"
   ]
  },
  {
   "cell_type": "markdown",
   "metadata": {},
   "source": [
    "# random notes\n"
   ]
  },
  {
   "cell_type": "code",
   "execution_count": 3,
   "metadata": {},
   "outputs": [
    {
     "name": "stdout",
     "output_type": "stream",
     "text": [
      "[1]\n",
      "[1, 2]\n",
      "[1, 2, 3]\n"
     ]
    },
    {
     "data": {
      "text/plain": [
       "[1, 2, 3]"
      ]
     },
     "execution_count": 3,
     "metadata": {},
     "output_type": "execute_result"
    }
   ],
   "source": [
    "def f(a, L=[]):\n",
    "    L.append(a)\n",
    "    print(L)\n",
    "    return L\n",
    "f(1)\n",
    "f(2)\n",
    "f(3)"
   ]
  },
  {
   "cell_type": "markdown",
   "metadata": {},
   "source": [
    "# 3b"
   ]
  },
  {
   "cell_type": "code",
   "execution_count": 11,
   "metadata": {},
   "outputs": [],
   "source": [
    "def listSorting(ls):\n",
    "    return ls.sort()\n"
   ]
  },
  {
   "cell_type": "code",
   "execution_count": 15,
   "metadata": {},
   "outputs": [
    {
     "name": "stdout",
     "output_type": "stream",
     "text": [
      "None\n",
      "[3, 3, 4, 5, 8, 12, 23, 34, 34]\n"
     ]
    }
   ],
   "source": [
    "intLs=[3,4,8,23,34,34,12,3,5]\n",
    "print(listSorting(intLs))\n",
    "print(intLs)"
   ]
  },
  {
   "cell_type": "markdown",
   "metadata": {},
   "source": [
    "# 3c"
   ]
  },
  {
   "cell_type": "code",
   "execution_count": 29,
   "metadata": {},
   "outputs": [],
   "source": [
    "def strRev(string):\n",
    "    return(string[::-1])"
   ]
  },
  {
   "cell_type": "code",
   "execution_count": 30,
   "metadata": {},
   "outputs": [
    {
     "name": "stdout",
     "output_type": "stream",
     "text": [
      "Some text please: a test\n",
      "tset a\n"
     ]
    }
   ],
   "source": [
    "text=str(input(\"Some text please: \"))\n",
    "print(strRev(text))"
   ]
  },
  {
   "cell_type": "markdown",
   "metadata": {},
   "source": [
    "# 5"
   ]
  },
  {
   "cell_type": "code",
   "execution_count": 35,
   "metadata": {},
   "outputs": [],
   "source": [
    "class CardHolder:\n",
    "    def __init__(self, name, balance):\n",
    "        self.__name= name\n",
    "        self.__balance= balance\n",
    "        return\n",
    "    def getBalance(self):\n",
    "        return self.__balance\n",
    "    def withdraw(self, amount):\n",
    "        if (self.__balance>amount):\n",
    "            self.__balance-=amount\n",
    "            return True\n",
    "        else: return False\n",
    "    def deposit(self, amount):\n",
    "        self.__balance +=amount\n",
    "        return True\n",
    "    "
   ]
  },
  {
   "cell_type": "code",
   "execution_count": 36,
   "metadata": {},
   "outputs": [
    {
     "name": "stdout",
     "output_type": "stream",
     "text": [
      "1000\n",
      "True\n",
      "700\n",
      "False\n",
      "700\n",
      "True\n",
      "1500\n"
     ]
    }
   ],
   "source": [
    "card=CardHolder(\"person mcperson\", 1000)\n",
    "print(card.getBalance())\n",
    "print(card.withdraw(300))\n",
    "print(card.getBalance())\n",
    "print(card.withdraw(800))\n",
    "print(card.getBalance())\n",
    "print(card.deposit(800))\n",
    "print(card.getBalance())"
   ]
  },
  {
   "cell_type": "code",
   "execution_count": null,
   "metadata": {},
   "outputs": [],
   "source": []
  }
 ],
 "metadata": {
  "kernelspec": {
   "display_name": "Python 3",
   "language": "python",
   "name": "python3"
  },
  "language_info": {
   "codemirror_mode": {
    "name": "ipython",
    "version": 3
   },
   "file_extension": ".py",
   "mimetype": "text/x-python",
   "name": "python",
   "nbconvert_exporter": "python",
   "pygments_lexer": "ipython3",
   "version": "3.6.4"
  }
 },
 "nbformat": 4,
 "nbformat_minor": 2
}
